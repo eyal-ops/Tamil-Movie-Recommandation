{
  "nbformat": 4,
  "nbformat_minor": 0,
  "metadata": {
    "colab": {
      "provenance": []
    },
    "kernelspec": {
      "name": "python3",
      "display_name": "Python 3"
    },
    "language_info": {
      "name": "python"
    }
  },
  "cells": [
    {
      "cell_type": "markdown",
      "source": [
        "Importing the denpendenices"
      ],
      "metadata": {
        "id": "uDRYT4sfupCj"
      }
    },
    {
      "cell_type": "code",
      "execution_count": null,
      "metadata": {
        "id": "ubX3FYwZtq7p"
      },
      "outputs": [],
      "source": [
        "import numpy as np\n",
        "import pandas as pd\n",
        "import difflib\n",
        "from sklearn.feature_extraction.text import TfidfVectorizer\n",
        "from sklearn.metrics.pairwise import cosine_similarity"
      ]
    },
    {
      "cell_type": "markdown",
      "source": [
        "Data collection and pre-processing"
      ],
      "metadata": {
        "id": "rSHI115xwWc1"
      }
    },
    {
      "cell_type": "code",
      "source": [
        "# loading the data from the csv file to apandas dataframes\n",
        "movies_data = pd.read_csv('/content/Tamil_movies_dataset.csv')"
      ],
      "metadata": {
        "id": "y9tZ-NpIwfdJ"
      },
      "execution_count": null,
      "outputs": []
    },
    {
      "cell_type": "code",
      "source": [
        "# printing the first 5 rows of the dataframe\n",
        "movies_data.head()"
      ],
      "metadata": {
        "colab": {
          "base_uri": "https://localhost:8080/",
          "height": 258
        },
        "id": "mEl_DuJ7w8dZ",
        "outputId": "cdbbaabd-c4b6-4440-8298-559e6a256125"
      },
      "execution_count": null,
      "outputs": [
        {
          "output_type": "execute_result",
          "data": {
            "text/plain": [
              "          MovieName   Genre  Rating              Director  \\\n",
              "0        Mouna Guru  Action     7.7          Santha Kumar   \n",
              "1       7 Aum Arivu  Action     6.2       A.R. Murugadoss   \n",
              "2  Vaagai Sooda Vaa  Comedy     8.0           A. Sarkunam   \n",
              "3          Mankatha  Action     7.6         Venkat Prabhu   \n",
              "4  Kanchana: Muni 2  Comedy     6.5  Lawrence Raghavendra   \n",
              "\n",
              "                  Actor  PeopleVote  Year  Hero_Rating  movie_rating  \\\n",
              "0             Arulnithi         746  2011            8             8   \n",
              "1                Suriya        9479  2011            9             9   \n",
              "2                 Vimal       14522  2011            8             7   \n",
              "3           Ajith Kumar       12276  2011            6             8   \n",
              "4  Lawrence Raghavendra        1044  2011            8             9   \n",
              "\n",
              "   content_rating  \n",
              "0        7.900000  \n",
              "1        8.066667  \n",
              "2        7.666667  \n",
              "3        7.200000  \n",
              "4        7.833333  "
            ],
            "text/html": [
              "\n",
              "  <div id=\"df-2eb97c8d-fe7a-4380-8523-cd179f97804c\" class=\"colab-df-container\">\n",
              "    <div>\n",
              "<style scoped>\n",
              "    .dataframe tbody tr th:only-of-type {\n",
              "        vertical-align: middle;\n",
              "    }\n",
              "\n",
              "    .dataframe tbody tr th {\n",
              "        vertical-align: top;\n",
              "    }\n",
              "\n",
              "    .dataframe thead th {\n",
              "        text-align: right;\n",
              "    }\n",
              "</style>\n",
              "<table border=\"1\" class=\"dataframe\">\n",
              "  <thead>\n",
              "    <tr style=\"text-align: right;\">\n",
              "      <th></th>\n",
              "      <th>MovieName</th>\n",
              "      <th>Genre</th>\n",
              "      <th>Rating</th>\n",
              "      <th>Director</th>\n",
              "      <th>Actor</th>\n",
              "      <th>PeopleVote</th>\n",
              "      <th>Year</th>\n",
              "      <th>Hero_Rating</th>\n",
              "      <th>movie_rating</th>\n",
              "      <th>content_rating</th>\n",
              "    </tr>\n",
              "  </thead>\n",
              "  <tbody>\n",
              "    <tr>\n",
              "      <th>0</th>\n",
              "      <td>Mouna Guru</td>\n",
              "      <td>Action</td>\n",
              "      <td>7.7</td>\n",
              "      <td>Santha Kumar</td>\n",
              "      <td>Arulnithi</td>\n",
              "      <td>746</td>\n",
              "      <td>2011</td>\n",
              "      <td>8</td>\n",
              "      <td>8</td>\n",
              "      <td>7.900000</td>\n",
              "    </tr>\n",
              "    <tr>\n",
              "      <th>1</th>\n",
              "      <td>7 Aum Arivu</td>\n",
              "      <td>Action</td>\n",
              "      <td>6.2</td>\n",
              "      <td>A.R. Murugadoss</td>\n",
              "      <td>Suriya</td>\n",
              "      <td>9479</td>\n",
              "      <td>2011</td>\n",
              "      <td>9</td>\n",
              "      <td>9</td>\n",
              "      <td>8.066667</td>\n",
              "    </tr>\n",
              "    <tr>\n",
              "      <th>2</th>\n",
              "      <td>Vaagai Sooda Vaa</td>\n",
              "      <td>Comedy</td>\n",
              "      <td>8.0</td>\n",
              "      <td>A. Sarkunam</td>\n",
              "      <td>Vimal</td>\n",
              "      <td>14522</td>\n",
              "      <td>2011</td>\n",
              "      <td>8</td>\n",
              "      <td>7</td>\n",
              "      <td>7.666667</td>\n",
              "    </tr>\n",
              "    <tr>\n",
              "      <th>3</th>\n",
              "      <td>Mankatha</td>\n",
              "      <td>Action</td>\n",
              "      <td>7.6</td>\n",
              "      <td>Venkat Prabhu</td>\n",
              "      <td>Ajith Kumar</td>\n",
              "      <td>12276</td>\n",
              "      <td>2011</td>\n",
              "      <td>6</td>\n",
              "      <td>8</td>\n",
              "      <td>7.200000</td>\n",
              "    </tr>\n",
              "    <tr>\n",
              "      <th>4</th>\n",
              "      <td>Kanchana: Muni 2</td>\n",
              "      <td>Comedy</td>\n",
              "      <td>6.5</td>\n",
              "      <td>Lawrence Raghavendra</td>\n",
              "      <td>Lawrence Raghavendra</td>\n",
              "      <td>1044</td>\n",
              "      <td>2011</td>\n",
              "      <td>8</td>\n",
              "      <td>9</td>\n",
              "      <td>7.833333</td>\n",
              "    </tr>\n",
              "  </tbody>\n",
              "</table>\n",
              "</div>\n",
              "    <div class=\"colab-df-buttons\">\n",
              "\n",
              "  <div class=\"colab-df-container\">\n",
              "    <button class=\"colab-df-convert\" onclick=\"convertToInteractive('df-2eb97c8d-fe7a-4380-8523-cd179f97804c')\"\n",
              "            title=\"Convert this dataframe to an interactive table.\"\n",
              "            style=\"display:none;\">\n",
              "\n",
              "  <svg xmlns=\"http://www.w3.org/2000/svg\" height=\"24px\" viewBox=\"0 -960 960 960\">\n",
              "    <path d=\"M120-120v-720h720v720H120Zm60-500h600v-160H180v160Zm220 220h160v-160H400v160Zm0 220h160v-160H400v160ZM180-400h160v-160H180v160Zm440 0h160v-160H620v160ZM180-180h160v-160H180v160Zm440 0h160v-160H620v160Z\"/>\n",
              "  </svg>\n",
              "    </button>\n",
              "\n",
              "  <style>\n",
              "    .colab-df-container {\n",
              "      display:flex;\n",
              "      gap: 12px;\n",
              "    }\n",
              "\n",
              "    .colab-df-convert {\n",
              "      background-color: #E8F0FE;\n",
              "      border: none;\n",
              "      border-radius: 50%;\n",
              "      cursor: pointer;\n",
              "      display: none;\n",
              "      fill: #1967D2;\n",
              "      height: 32px;\n",
              "      padding: 0 0 0 0;\n",
              "      width: 32px;\n",
              "    }\n",
              "\n",
              "    .colab-df-convert:hover {\n",
              "      background-color: #E2EBFA;\n",
              "      box-shadow: 0px 1px 2px rgba(60, 64, 67, 0.3), 0px 1px 3px 1px rgba(60, 64, 67, 0.15);\n",
              "      fill: #174EA6;\n",
              "    }\n",
              "\n",
              "    .colab-df-buttons div {\n",
              "      margin-bottom: 4px;\n",
              "    }\n",
              "\n",
              "    [theme=dark] .colab-df-convert {\n",
              "      background-color: #3B4455;\n",
              "      fill: #D2E3FC;\n",
              "    }\n",
              "\n",
              "    [theme=dark] .colab-df-convert:hover {\n",
              "      background-color: #434B5C;\n",
              "      box-shadow: 0px 1px 3px 1px rgba(0, 0, 0, 0.15);\n",
              "      filter: drop-shadow(0px 1px 2px rgba(0, 0, 0, 0.3));\n",
              "      fill: #FFFFFF;\n",
              "    }\n",
              "  </style>\n",
              "\n",
              "    <script>\n",
              "      const buttonEl =\n",
              "        document.querySelector('#df-2eb97c8d-fe7a-4380-8523-cd179f97804c button.colab-df-convert');\n",
              "      buttonEl.style.display =\n",
              "        google.colab.kernel.accessAllowed ? 'block' : 'none';\n",
              "\n",
              "      async function convertToInteractive(key) {\n",
              "        const element = document.querySelector('#df-2eb97c8d-fe7a-4380-8523-cd179f97804c');\n",
              "        const dataTable =\n",
              "          await google.colab.kernel.invokeFunction('convertToInteractive',\n",
              "                                                    [key], {});\n",
              "        if (!dataTable) return;\n",
              "\n",
              "        const docLinkHtml = 'Like what you see? Visit the ' +\n",
              "          '<a target=\"_blank\" href=https://colab.research.google.com/notebooks/data_table.ipynb>data table notebook</a>'\n",
              "          + ' to learn more about interactive tables.';\n",
              "        element.innerHTML = '';\n",
              "        dataTable['output_type'] = 'display_data';\n",
              "        await google.colab.output.renderOutput(dataTable, element);\n",
              "        const docLink = document.createElement('div');\n",
              "        docLink.innerHTML = docLinkHtml;\n",
              "        element.appendChild(docLink);\n",
              "      }\n",
              "    </script>\n",
              "  </div>\n",
              "\n",
              "\n",
              "<div id=\"df-08fdecf1-927a-441f-8e5d-17c4d0551c45\">\n",
              "  <button class=\"colab-df-quickchart\" onclick=\"quickchart('df-08fdecf1-927a-441f-8e5d-17c4d0551c45')\"\n",
              "            title=\"Suggest charts\"\n",
              "            style=\"display:none;\">\n",
              "\n",
              "<svg xmlns=\"http://www.w3.org/2000/svg\" height=\"24px\"viewBox=\"0 0 24 24\"\n",
              "     width=\"24px\">\n",
              "    <g>\n",
              "        <path d=\"M19 3H5c-1.1 0-2 .9-2 2v14c0 1.1.9 2 2 2h14c1.1 0 2-.9 2-2V5c0-1.1-.9-2-2-2zM9 17H7v-7h2v7zm4 0h-2V7h2v10zm4 0h-2v-4h2v4z\"/>\n",
              "    </g>\n",
              "</svg>\n",
              "  </button>\n",
              "\n",
              "<style>\n",
              "  .colab-df-quickchart {\n",
              "      --bg-color: #E8F0FE;\n",
              "      --fill-color: #1967D2;\n",
              "      --hover-bg-color: #E2EBFA;\n",
              "      --hover-fill-color: #174EA6;\n",
              "      --disabled-fill-color: #AAA;\n",
              "      --disabled-bg-color: #DDD;\n",
              "  }\n",
              "\n",
              "  [theme=dark] .colab-df-quickchart {\n",
              "      --bg-color: #3B4455;\n",
              "      --fill-color: #D2E3FC;\n",
              "      --hover-bg-color: #434B5C;\n",
              "      --hover-fill-color: #FFFFFF;\n",
              "      --disabled-bg-color: #3B4455;\n",
              "      --disabled-fill-color: #666;\n",
              "  }\n",
              "\n",
              "  .colab-df-quickchart {\n",
              "    background-color: var(--bg-color);\n",
              "    border: none;\n",
              "    border-radius: 50%;\n",
              "    cursor: pointer;\n",
              "    display: none;\n",
              "    fill: var(--fill-color);\n",
              "    height: 32px;\n",
              "    padding: 0;\n",
              "    width: 32px;\n",
              "  }\n",
              "\n",
              "  .colab-df-quickchart:hover {\n",
              "    background-color: var(--hover-bg-color);\n",
              "    box-shadow: 0 1px 2px rgba(60, 64, 67, 0.3), 0 1px 3px 1px rgba(60, 64, 67, 0.15);\n",
              "    fill: var(--button-hover-fill-color);\n",
              "  }\n",
              "\n",
              "  .colab-df-quickchart-complete:disabled,\n",
              "  .colab-df-quickchart-complete:disabled:hover {\n",
              "    background-color: var(--disabled-bg-color);\n",
              "    fill: var(--disabled-fill-color);\n",
              "    box-shadow: none;\n",
              "  }\n",
              "\n",
              "  .colab-df-spinner {\n",
              "    border: 2px solid var(--fill-color);\n",
              "    border-color: transparent;\n",
              "    border-bottom-color: var(--fill-color);\n",
              "    animation:\n",
              "      spin 1s steps(1) infinite;\n",
              "  }\n",
              "\n",
              "  @keyframes spin {\n",
              "    0% {\n",
              "      border-color: transparent;\n",
              "      border-bottom-color: var(--fill-color);\n",
              "      border-left-color: var(--fill-color);\n",
              "    }\n",
              "    20% {\n",
              "      border-color: transparent;\n",
              "      border-left-color: var(--fill-color);\n",
              "      border-top-color: var(--fill-color);\n",
              "    }\n",
              "    30% {\n",
              "      border-color: transparent;\n",
              "      border-left-color: var(--fill-color);\n",
              "      border-top-color: var(--fill-color);\n",
              "      border-right-color: var(--fill-color);\n",
              "    }\n",
              "    40% {\n",
              "      border-color: transparent;\n",
              "      border-right-color: var(--fill-color);\n",
              "      border-top-color: var(--fill-color);\n",
              "    }\n",
              "    60% {\n",
              "      border-color: transparent;\n",
              "      border-right-color: var(--fill-color);\n",
              "    }\n",
              "    80% {\n",
              "      border-color: transparent;\n",
              "      border-right-color: var(--fill-color);\n",
              "      border-bottom-color: var(--fill-color);\n",
              "    }\n",
              "    90% {\n",
              "      border-color: transparent;\n",
              "      border-bottom-color: var(--fill-color);\n",
              "    }\n",
              "  }\n",
              "</style>\n",
              "\n",
              "  <script>\n",
              "    async function quickchart(key) {\n",
              "      const quickchartButtonEl =\n",
              "        document.querySelector('#' + key + ' button');\n",
              "      quickchartButtonEl.disabled = true;  // To prevent multiple clicks.\n",
              "      quickchartButtonEl.classList.add('colab-df-spinner');\n",
              "      try {\n",
              "        const charts = await google.colab.kernel.invokeFunction(\n",
              "            'suggestCharts', [key], {});\n",
              "      } catch (error) {\n",
              "        console.error('Error during call to suggestCharts:', error);\n",
              "      }\n",
              "      quickchartButtonEl.classList.remove('colab-df-spinner');\n",
              "      quickchartButtonEl.classList.add('colab-df-quickchart-complete');\n",
              "    }\n",
              "    (() => {\n",
              "      let quickchartButtonEl =\n",
              "        document.querySelector('#df-08fdecf1-927a-441f-8e5d-17c4d0551c45 button');\n",
              "      quickchartButtonEl.style.display =\n",
              "        google.colab.kernel.accessAllowed ? 'block' : 'none';\n",
              "    })();\n",
              "  </script>\n",
              "</div>\n",
              "\n",
              "    </div>\n",
              "  </div>\n"
            ],
            "application/vnd.google.colaboratory.intrinsic+json": {
              "type": "dataframe",
              "variable_name": "movies_data",
              "summary": "{\n  \"name\": \"movies_data\",\n  \"rows\": 329,\n  \"fields\": [\n    {\n      \"column\": \"MovieName\",\n      \"properties\": {\n        \"dtype\": \"string\",\n        \"num_unique_values\": 328,\n        \"samples\": [\n          \"Raja Ranguski\",\n          \"Singam 3\",\n          \"Iruttu Araiyil Murattu Kuthu\"\n        ],\n        \"semantic_type\": \"\",\n        \"description\": \"\"\n      }\n    },\n    {\n      \"column\": \"Genre\",\n      \"properties\": {\n        \"dtype\": \"category\",\n        \"num_unique_values\": 12,\n        \"samples\": [\n          \"Family\",\n          \"Biography\",\n          \"Action\"\n        ],\n        \"semantic_type\": \"\",\n        \"description\": \"\"\n      }\n    },\n    {\n      \"column\": \"Rating\",\n      \"properties\": {\n        \"dtype\": \"number\",\n        \"std\": 1.4038352437705992,\n        \"min\": 1.2,\n        \"max\": 9.0,\n        \"num_unique_values\": 62,\n        \"samples\": [\n          2.7,\n          4.5,\n          7.7\n        ],\n        \"semantic_type\": \"\",\n        \"description\": \"\"\n      }\n    },\n    {\n      \"column\": \"Director\",\n      \"properties\": {\n        \"dtype\": \"string\",\n        \"num_unique_values\": 233,\n        \"samples\": [\n          \"Lakshman\",\n          \"Kalees\",\n          \"Rajath Ravishankar\"\n        ],\n        \"semantic_type\": \"\",\n        \"description\": \"\"\n      }\n    },\n    {\n      \"column\": \"Actor\",\n      \"properties\": {\n        \"dtype\": \"string\",\n        \"num_unique_values\": 178,\n        \"samples\": [\n          \"Prasanna\",\n          \"Anucharan\",\n          \"Vijay Deverakonda\"\n        ],\n        \"semantic_type\": \"\",\n        \"description\": \"\"\n      }\n    },\n    {\n      \"column\": \"PeopleVote\",\n      \"properties\": {\n        \"dtype\": \"number\",\n        \"std\": 14380,\n        \"min\": 7,\n        \"max\": 71418,\n        \"num_unique_values\": 321,\n        \"samples\": [\n          510,\n          175,\n          701\n        ],\n        \"semantic_type\": \"\",\n        \"description\": \"\"\n      }\n    },\n    {\n      \"column\": \"Year\",\n      \"properties\": {\n        \"dtype\": \"number\",\n        \"std\": 2,\n        \"min\": 2011,\n        \"max\": 2019,\n        \"num_unique_values\": 9,\n        \"samples\": [\n          2018,\n          2012,\n          2016\n        ],\n        \"semantic_type\": \"\",\n        \"description\": \"\"\n      }\n    },\n    {\n      \"column\": \"Hero_Rating\",\n      \"properties\": {\n        \"dtype\": \"number\",\n        \"std\": 1,\n        \"min\": 1,\n        \"max\": 10,\n        \"num_unique_values\": 10,\n        \"samples\": [\n          1,\n          9,\n          2\n        ],\n        \"semantic_type\": \"\",\n        \"description\": \"\"\n      }\n    },\n    {\n      \"column\": \"movie_rating\",\n      \"properties\": {\n        \"dtype\": \"number\",\n        \"std\": 0,\n        \"min\": 6,\n        \"max\": 10,\n        \"num_unique_values\": 5,\n        \"samples\": [\n          9,\n          6,\n          7\n        ],\n        \"semantic_type\": \"\",\n        \"description\": \"\"\n      }\n    },\n    {\n      \"column\": \"content_rating\",\n      \"properties\": {\n        \"dtype\": \"number\",\n        \"std\": 0.8559996842207791,\n        \"min\": 4.3,\n        \"max\": 8.766666667,\n        \"num_unique_values\": 98,\n        \"samples\": [\n          8.333333333,\n          8.5,\n          5.133333333\n        ],\n        \"semantic_type\": \"\",\n        \"description\": \"\"\n      }\n    }\n  ]\n}"
            }
          },
          "metadata": {},
          "execution_count": 129
        }
      ]
    },
    {
      "cell_type": "code",
      "source": [
        "# number of rows and columns in the data frame\n",
        "movies_data.shape"
      ],
      "metadata": {
        "colab": {
          "base_uri": "https://localhost:8080/"
        },
        "id": "p6YHBOog1w9O",
        "outputId": "ba264539-36a7-47a7-f959-4734e2f5be48"
      },
      "execution_count": null,
      "outputs": [
        {
          "output_type": "execute_result",
          "data": {
            "text/plain": [
              "(329, 10)"
            ]
          },
          "metadata": {},
          "execution_count": 130
        }
      ]
    },
    {
      "cell_type": "code",
      "source": [
        "# selecting the relevant features for recommendation\n",
        "selected_features = ['Genre', 'Director', 'MovieName','Actor']\n",
        "print(selected_features)"
      ],
      "metadata": {
        "colab": {
          "base_uri": "https://localhost:8080/"
        },
        "id": "XH5rHWDV2Skg",
        "outputId": "65cccb08-d5ef-47f6-922a-e0472e4617e1"
      },
      "execution_count": 135,
      "outputs": [
        {
          "output_type": "stream",
          "name": "stdout",
          "text": [
            "['Genre', 'Director', 'MovieName', 'Actor']\n"
          ]
        }
      ]
    },
    {
      "cell_type": "code",
      "source": [
        "# for feature in selected_features:\n",
        "  # movies_data[feature] = movies_data.fillna('')"
      ],
      "metadata": {
        "id": "_corU6HBABNK"
      },
      "execution_count": 138,
      "outputs": []
    },
    {
      "cell_type": "code",
      "source": [
        "# combining all the 5 selected features\n",
        "combined_features = movies_data['MovieName']+'  '+movies_data['Genre']+'  '+movies_data['Actor']+'  '+movies_data['Director']"
      ],
      "metadata": {
        "id": "Tffz1pKuBF_w"
      },
      "execution_count": 140,
      "outputs": []
    },
    {
      "cell_type": "code",
      "source": [
        "print(combined_features)"
      ],
      "metadata": {
        "colab": {
          "base_uri": "https://localhost:8080/"
        },
        "id": "Gq7H5kUpB2Zy",
        "outputId": "2e457a7a-0fb7-4e31-9c2d-ccc0b1f699ce"
      },
      "execution_count": 141,
      "outputs": [
        {
          "output_type": "stream",
          "name": "stdout",
          "text": [
            "0            Mouna Guru  Action  Arulnithi  Santha Kumar\n",
            "1           7 Aum Arivu  Action  Suriya  A.R. Murugadoss\n",
            "2           Vaagai Sooda Vaa  Comedy  Vimal  A. Sarkunam\n",
            "3           Mankatha  Action  Ajith Kumar  Venkat Prabhu\n",
            "4      Kanchana: Muni 2  Comedy  Lawrence Raghavendra...\n",
            "                             ...                        \n",
            "324        Dhilluku Dhuddu 2  Comedy  Santhanam  Rambala\n",
            "325              Dev  Action  Karthi  Rajath Ravishankar\n",
            "326    Charlie Chaplin 2  Comedy  Prabhu Deva  Sakthi...\n",
            "327         Petta  Action  Rajinikanth  Karthik Subbaraj\n",
            "328                  Viswasam  Action  Ajith Kumar  Siva\n",
            "Length: 329, dtype: object\n"
          ]
        }
      ]
    },
    {
      "cell_type": "code",
      "source": [
        "# converting the text data to feature vectors\n",
        "vectorizer = TfidfVectorizer()"
      ],
      "metadata": {
        "id": "ZuoexXJ8B7Sb"
      },
      "execution_count": 142,
      "outputs": []
    },
    {
      "cell_type": "code",
      "source": [
        "feature_vectors = vectorizer.fit_transform(combined_features)"
      ],
      "metadata": {
        "id": "habI7u2YCxgH"
      },
      "execution_count": 143,
      "outputs": []
    },
    {
      "cell_type": "code",
      "source": [
        "print(feature_vectors)"
      ],
      "metadata": {
        "colab": {
          "base_uri": "https://localhost:8080/"
        },
        "id": "RuRax7XYDJKe",
        "outputId": "1459c0ee-6892-409e-f666-5d9bd955a611"
      },
      "execution_count": 144,
      "outputs": [
        {
          "output_type": "stream",
          "name": "stdout",
          "text": [
            "  (0, 431)\t0.27131371441269614\n",
            "  (0, 769)\t0.4683054208839953\n",
            "  (0, 102)\t0.42634011385976733\n",
            "  (0, 30)\t0.14858490160136792\n",
            "  (0, 284)\t0.5016151589976136\n",
            "  (0, 512)\t0.5016151589976136\n",
            "  (1, 523)\t0.4495141896371242\n",
            "  (1, 865)\t0.4131151099763389\n",
            "  (1, 97)\t0.5481379069728229\n",
            "  (1, 117)\t0.5481379069728229\n",
            "  (1, 30)\t0.16236554161219863\n",
            "  (2, 779)\t0.42687377414388333\n",
            "  (2, 990)\t0.3886211975268459\n",
            "  (2, 197)\t0.19888828870031153\n",
            "  (2, 936)\t0.45723655234419547\n",
            "  (2, 845)\t0.45723655234419547\n",
            "  (2, 937)\t0.45723655234419547\n",
            "  (3, 653)\t0.3675946132919421\n",
            "  (3, 973)\t0.48102551255383863\n",
            "  (3, 53)\t0.4374612008802235\n",
            "  (3, 482)\t0.5659558674344395\n",
            "  (3, 431)\t0.30611433054404114\n",
            "  (3, 30)\t0.1676434520868678\n",
            "  (4, 680)\t0.6192060289183977\n",
            "  (4, 446)\t0.6192060289183977\n",
            "  :\t:\n",
            "  (324, 225)\t0.49624238757091604\n",
            "  (324, 770)\t0.46328942816694696\n",
            "  (324, 197)\t0.21585500708228575\n",
            "  (325, 730)\t0.5230113639338784\n",
            "  (325, 692)\t0.5230113639338784\n",
            "  (325, 213)\t0.5230113639338784\n",
            "  (325, 384)\t0.3941779876594664\n",
            "  (325, 30)\t0.1549227343962351\n",
            "  (326, 180)\t0.45056180753790714\n",
            "  (326, 182)\t0.42064226554663814\n",
            "  (326, 214)\t0.39941401267176874\n",
            "  (326, 754)\t0.42064226554663814\n",
            "  (326, 189)\t0.39941401267176874\n",
            "  (326, 653)\t0.29264489147681\n",
            "  (326, 197)\t0.19598491501938445\n",
            "  (327, 638)\t0.5812345868534476\n",
            "  (327, 699)\t0.46198210260983225\n",
            "  (327, 856)\t0.47665594912312875\n",
            "  (327, 386)\t0.43805908552483863\n",
            "  (327, 30)\t0.17216920650386905\n",
            "  (328, 998)\t0.6015362958468317\n",
            "  (328, 834)\t0.5332498708774407\n",
            "  (328, 53)\t0.4649634459080498\n",
            "  (328, 431)\t0.32535908026861454\n",
            "  (328, 30)\t0.178182835436355\n"
          ]
        }
      ]
    },
    {
      "cell_type": "markdown",
      "source": [
        "Cosine Similarity"
      ],
      "metadata": {
        "id": "To_BcOZBDVI9"
      }
    },
    {
      "cell_type": "code",
      "source": [
        "# getting the similarity scores using cosine similarity\n",
        "similarity = cosine_similarity(feature_vectors)"
      ],
      "metadata": {
        "id": "jkD1tel5Dafj"
      },
      "execution_count": 145,
      "outputs": []
    },
    {
      "cell_type": "code",
      "source": [
        "print(similarity)"
      ],
      "metadata": {
        "colab": {
          "base_uri": "https://localhost:8080/"
        },
        "id": "0g_i4H8DD7JG",
        "outputId": "b1a212db-ca1e-4bed-9941-adfc5cd11d9f"
      },
      "execution_count": 146,
      "outputs": [
        {
          "output_type": "stream",
          "name": "stdout",
          "text": [
            "[[1.         0.02412507 0.         ... 0.         0.02558174 0.11474966]\n",
            " [0.02412507 1.         0.         ... 0.         0.02795435 0.02893075]\n",
            " [0.         0.         1.         ... 0.0389791  0.         0.        ]\n",
            " ...\n",
            " [0.         0.         0.0389791  ... 1.         0.         0.        ]\n",
            " [0.02558174 0.02795435 0.         ... 0.         1.         0.0306776 ]\n",
            " [0.11474966 0.02893075 0.         ... 0.         0.0306776  1.        ]]\n"
          ]
        }
      ]
    },
    {
      "cell_type": "code",
      "source": [
        "print(similarity.shape)"
      ],
      "metadata": {
        "colab": {
          "base_uri": "https://localhost:8080/"
        },
        "id": "udUURKbsECf4",
        "outputId": "6a1e703b-1e35-4992-8257-17aabc95fdb6"
      },
      "execution_count": 147,
      "outputs": [
        {
          "output_type": "stream",
          "name": "stdout",
          "text": [
            "(329, 329)\n"
          ]
        }
      ]
    },
    {
      "cell_type": "code",
      "source": [
        "#getting the movie name from the user\n",
        "\n",
        "movie_name = input('Enter your favourite movie name : ')"
      ],
      "metadata": {
        "colab": {
          "base_uri": "https://localhost:8080/"
        },
        "id": "6sXpmCiOEGqa",
        "outputId": "250069ab-4c24-4493-f44e-cd9a0429ef83"
      },
      "execution_count": 148,
      "outputs": [
        {
          "name": "stdout",
          "output_type": "stream",
          "text": [
            "Enter your favourite movie name : Mankatha\n"
          ]
        }
      ]
    },
    {
      "cell_type": "code",
      "source": [
        "# Creating a list with all the movie names given in the dataset\n",
        "list_of_all_titles = movies_data['MovieName'].tolist()\n",
        "print(list_of_all_titles)"
      ],
      "metadata": {
        "colab": {
          "base_uri": "https://localhost:8080/"
        },
        "id": "MvXW00vgZNlO",
        "outputId": "91a65e8b-00fb-4832-c08c-358d8e0ea74f"
      },
      "execution_count": 150,
      "outputs": [
        {
          "output_type": "stream",
          "name": "stdout",
          "text": [
            "['Mouna Guru', '7 Aum Arivu', 'Vaagai Sooda Vaa', 'Mankatha', 'Kanchana: Muni 2', 'Deiva Thirumagal', 'Vaanam', 'Ko', 'Payanam', 'Yutham Sei', 'Aadukalam', 'Naduvula Konjam Pakkatha Kaanom', 'Thuppakki', 'Pizza', 'Naan', 'The Fly', 'Kalakalappu', 'Vazhakku Enn 18/9', 'Kumki', 'Neethaane En Ponvasantham', 'Thalaimuraigal', 'Biriyani', 'Ivan Veramaathiri', 'Kalyana Samayal Saadham', 'Irandam Ulagam', 'Pandiya Naadu', 'Arrambam', 'Onaayum Aattukkuttiyum', 'Raja Rani', '6 Candles', 'Moodar Koodam', 'Varuthapadatha Valibar Sangam', 'Thanga Meengal', 'Aadhalal Kadhal Seiveer', 'Maryan', 'Singam 2', 'Theeya Velai Seiyyanum Kumaru', 'Neram', 'Soodhu Kavvum', 'Ethir Neechal', 'Kedi Billa Killadi Ranga', 'Paradesi', 'Kaakkaa Muttai', 'Kayal', 'Pisasu', 'Lingaa', 'Kaaviya Thalaivan', 'Kaththi', 'Jeeva', 'Madras', 'Kathai Thiraikathai Vasanam Iyakkam', 'Jigarthanda', 'Velaiilla Pattadhari', 'Sathuranga Vettai', 'Saivam', 'Mundaasupatti', 'Kochadaiiyaan', 'Vaayai Moodi Pesavum', 'Cuckoo', 'Thegidi', 'Pannaiyarum Padminiyum', 'Goli Soda', 'Veeram', 'Rajini Murugan', 'Visaaranai', 'Pasanga 2', 'Thoongaavanam', 'Naanum Rowdy Thaan', 'Kuttram Kadithal', 'Kirumi', 'Maya', 'Thani Oruvan', 'Papanasam', 'Indru Netru Naalai', 'Demonte Colony', '36 Vayadhinile', 'Uttama Villain', 'Kanchana 2', 'OK Kanmani', 'Rajathandhiram', 'Enakkul Oruvan', 'Press 1 for Tamil', 'Yennai Arindhaal', 'I', 'Dhuruvangal Pathinaaru', 'Chennai 600028 Second Innings', 'Achcham Yenbadhu Madamaiyada', 'Ammani', 'Aandavan Kattalai', 'Kuttrame Thandanai', 'Dharmadurai', 'Joker', 'Kabali', 'Metro', 'Iraivi', 'Uriyadi', '24', 'Theri', 'Oopiri', 'Kadhalum Kadanthu Pogum', 'Pichaikkaran', 'Saala Khadoos', 'Crime 23', 'Muthuramalingam', 'Dream Factory', 'Yaman', 'Ennodu Vilayadu', 'Kadhal Kan Kattudhe', 'Pagadi Aattam', 'Rum', 'Singam 3', 'Bogan', 'Enakku Vaaitha Adimaigal', 'Koditta Idangalai Nirappuga', 'Adhe Kangal', 'Bairavaa', 'Lens', 'Aruvi', 'Ulkuththu', 'Balloon', 'Kalavaadiya Pozhuthugal', 'Velaikkaran', 'Sakka Podu Podu Raja', 'Bhrama.com', 'Chennai 2 Singapore', '12-12-1950', 'Kodiveeran', 'Richie', 'Annadurai', 'Thiruttu Payale 2', 'English Padam', 'Indrajith', 'En Aaloda Seruppa Kaanom', 'Theeran Adhigaram Ondru', 'C/o Surya', 'Ippadai Vellum', 'Aramm', 'The House Next Door', 'Vizhithiru', 'Kadaisi Bench Karthi', 'Mersal', 'Meyaadha Maan', 'Solo', 'Hara Hara Mahadevaki', 'Karuppan', 'Spyder', 'Bayama Irukku', 'Aayirathil Iruvar', 'Kalavu Thozhirchalai', 'Veedevadu', 'Thupparivaalan', 'Kathanayagan', 'Neruppu Da', 'Kurangu Bommai', 'Maayavan', 'Puriyaatha Puthir', 'Vivegam', 'Thappu Thanda', 'Taramani', 'Velaiyilla Pattathari 2', 'Podhuvaga En Manasu Thangam', 'Kootathil Oruthan', 'Nibunan', 'Meesaya murukku', 'Vikram Vedha', 'Rubaai', 'Magalir Mattum', 'Pandigai', 'Thiri', 'Gemini Ganesanum Suruli Rajanum', 'Chennaiyil Oru Naal 2', 'Ivan Thanthiran', 'Adhagappattathu Magajanangalay', 'Yaanum Theeyavan', 'Vanamagan', 'Anbanavan Asaradhavan Adangadhavan', 'Maragatha Nananya', 'Uru', 'Peechaankai', 'Rangoon', 'Sathriyan', 'Bongu', 'Oru Kidayin Karunai Manu', 'Oru Iyakkunarin Kadhal Diary', '7 Naatkal', 'Thondan', 'Brindavanam', 'Inayathalam', 'Sangili Bungili Kadhava Thorae', 'Yeidhavan', 'Saravanan Irukka Bayamaen', 'Enga Amma Rani', 'Baahubali 2: The Conclusion', 'Nagarvalam', 'Sathya', 'Kadamban - Taqatwar', 'Sivalinga - Kanchana Returns', 'Power Paandi', '8 Thottakkal', 'Kaatru Veliyidai', 'Dora', 'Kavan', 'Kadugu', 'Paambhu Sattai', 'Dhayam', 'Vaigai Express', 'Julieum 4 Perum', 'Bruce Lee', 'Kattappava Kanom', 'Oru Mugathirai', 'Maanagaram', 'ACP Shiva', 'Mupparimanam', 'Yaakkai', 'Peranbu', 'Maari 2', 'Adanga Maru', 'Kanaa', 'Seethakaathi', 'Thuppakki Munai', 'Thuppakki Munai', '2', 'Kaatrin Mozhi', 'Sarkar', 'Pandem Kodi 2', 'Vada Chennai', 'Aan Devathai', 'Raatchasan', 'Nota', '96', 'Pariyerum Perumal', 'Chekka Chivantha Vaanam', 'Raja Ranguski', 'Saamy Square', 'U Turn', 'Seema Raja', 'Imaikkaa Nodigal', 'Lakshmi', 'Odu Raja Odu', 'Kolamavu Kokila', 'Pyaar Prema Kaadhal', 'Vishwaroopam 2', 'Ghajinikanth', 'Junga', 'Mohini', 'Chinababu', 'Tamizh Padam 2.0', 'Goli Soda 2', 'Iravukku Aayiram Kangal', 'Irumbu Thirai', 'Mahanati', 'Iruttu Araiyil Murattu Kuthu', 'Kaala', 'Karu', 'Mercury', 'Tik Tik Tik', '6 Athiyayam', 'Naachiyaar', 'Savarakathi', 'Kalakalappu 2', 'Merku Thodarchi Malai', 'Bhaagamathie', 'Nimir', 'Oru Nalla Naal Paathu Solren', 'Thaanaa Serndha Koottam', 'Sketch', 'Enai Noki Paayum Thota', 'Adithya Varma', 'Kaithi', 'Bigil', '100% Kadhal', 'Asuran', 'Kaappaan', 'Magamuni', 'Saaho', 'Sixer', 'Bakrid', 'Kennedy Club', 'Comali', 'Nerkonda Paarvai', 'Jackpot', 'A1', 'Aame', 'Kadaram Kondan', 'Sivappu Manjal Pachai', 'Gurkha', 'Vennila Kabaddi Kuzhu 2', 'Bodhai Yeri Budhi Maari', 'Kalavani 2', 'Raatchasi', 'Jiivi', 'Dharma Prabhu', 'House Owner', 'Sindhubaadh', 'Thumbaa', 'Game Over', 'Kolaigaran', 'NGK', 'Devi 2', 'Neeya 2', 'Ayogya', 'Kee', 'K-13', 'Mr. Local', '100', 'Vellai Pookal', 'Mehandi Circus', 'Kanchana 3', 'Watchman', 'Gangs Of Madras', 'Uriyadi 2', 'Kuppathu Raja', 'Natpe Thunai', 'Super Deluxe', 'Airaa', 'Agni Devi', 'Nedunalvaadai', 'Ispade Rajavum Idhaya Raniyum', 'Sathru', 'Boomerang', 'Thadam', '90 ML', 'LKG', 'Vantha Rajavathaan Varuven', 'Dhilluku Dhuddu 2', 'Dev', 'Charlie Chaplin 2', 'Petta', 'Viswasam']\n"
          ]
        }
      ]
    },
    {
      "cell_type": "code",
      "source": [
        "#Finding the close for the movie name given by the user\n",
        "find_close_match = difflib.get_close_matches(movie_name, list_of_all_titles)\n",
        "print(find_close_match)"
      ],
      "metadata": {
        "colab": {
          "base_uri": "https://localhost:8080/"
        },
        "id": "3stHYGKcZ9xL",
        "outputId": "09306e8c-bf56-4c1e-aca8-886f106bf459"
      },
      "execution_count": 151,
      "outputs": [
        {
          "output_type": "stream",
          "name": "stdout",
          "text": [
            "['Mankatha', 'Kanaa', 'Aan Devathai']\n"
          ]
        }
      ]
    },
    {
      "cell_type": "code",
      "source": [
        "close_match = find_close_match[0]\n",
        "print(close_match)"
      ],
      "metadata": {
        "colab": {
          "base_uri": "https://localhost:8080/"
        },
        "id": "BY7KK14Ua2qr",
        "outputId": "2258b74e-64bc-4869-c0ed-d4cbc22a6c9e"
      },
      "execution_count": 152,
      "outputs": [
        {
          "output_type": "stream",
          "name": "stdout",
          "text": [
            "Mankatha\n"
          ]
        }
      ]
    },
    {
      "source": [
        "# finding the index of the movie with title\n",
        "index_of_the_movie = movies_data[movies_data['MovieName'] == close_match].values[0]\n",
        "# Use the actual column name 'MovieName' instead of 'title'\n",
        "print(index_of_the_movie)"
      ],
      "cell_type": "code",
      "metadata": {
        "colab": {
          "base_uri": "https://localhost:8080/"
        },
        "id": "6P4IIBqyBmhL",
        "outputId": "c8532def-7850-49c8-882a-6563ce2d1e77"
      },
      "execution_count": 157,
      "outputs": [
        {
          "output_type": "stream",
          "name": "stdout",
          "text": [
            "['Mankatha' 'Action' 7.6 'Venkat Prabhu' 'Ajith Kumar' 12276 2011 6 8 7.2]\n"
          ]
        }
      ]
    },
    {
      "source": [
        "\n",
        "#getting a list of similar movies\n",
        "similarity_score = list(enumerate(similarity[index_of_the_movie]))\n",
        "print(similarity_score)"
      ],
      "cell_type": "code",
      "metadata": {
        "colab": {
          "base_uri": "https://localhost:8080/"
        },
        "id": "bl67lwsWCRBs",
        "outputId": "f4ed0116-953d-4f84-a6c4-1e21f390257f"
      },
      "execution_count": 160,
      "outputs": [
        {
          "output_type": "stream",
          "name": "stdout",
          "text": [
            "[(0, 0.10796230188730056), (1, 0.027219519895822962), (2, 0.0), (3, 1.0000000000000002), (4, 0.0), (5, 0.0), (6, 0.02422044344185715), (7, 0.03200358493531675), (8, 0.024688231239241278), (9, 0.0), (10, 0.03220112482500082), (11, 0.0), (12, 0.032338864768589375), (13, 0.0), (14, 0.0), (15, 0.025659830453423564), (16, 0.0), (17, 0.0), (18, 0.12203224897792213), (19, 0.0), (20, 0.0), (21, 0.4166886229236545), (22, 0.154670172764514), (23, 0.0), (24, 0.026057082499757717), (25, 0.027325272554123082), (26, 0.32067875608155183), (27, 0.022258393071235446), (28, 0.0909198310908518), (29, 0.0), (30, 0.0), (31, 0.0), (32, 0.0), (33, 0.0), (34, 0.0), (35, 0.03265001410048216), (36, 0.0), (37, 0.022593043338238295), (38, 0.0), (39, 0.0), (40, 0.0), (41, 0.0), (42, 0.0), (43, 0.0), (44, 0.0), (45, 0.0308495591268702), (46, 0.0), (47, 0.030963335903001425), (48, 0.0), (49, 0.02820824522037557), (50, 0.0), (51, 0.028666298617201234), (52, 0.025971782000921786), (53, 0.0), (54, 0.0), (55, 0.0909447375690123), (56, 0.0), (57, 0.0), (58, 0.0), (59, 0.0), (60, 0.08574742440440615), (61, 0.10561193714032584), (62, 0.332871730090371), (63, 0.02737248545951201), (64, 0.0), (65, 0.0), (66, 0.024703547825244473), (67, 0.02115584296633005), (68, 0.0), (69, 0.0), (70, 0.0), (71, 0.023634117829424678), (72, 0.0), (73, 0.0), (74, 0.0), (75, 0.0), (76, 0.0), (77, 0.0), (78, 0.0), (79, 0.024561160285759782), (80, 0.0), (81, 0.0), (82, 0.24770830568745822), (83, 0.04564298042049602), (84, 0.022593043338238302), (85, 0.2664951128498564), (86, 0.02046756997752144), (87, 0.0), (88, 0.0), (89, 0.0), (90, 0.0), (91, 0.0), (92, 0.02737248545951201), (93, 0.025659830453423564), (94, 0.0), (95, 0.2161141899172632), (96, 0.13856972985464666), (97, 0.1260721278113025), (98, 0.0), (99, 0.0), (100, 0.029283379178492563), (101, 0.022015475958473026), (102, 0.023921279499040663), (103, 0.026330576141342456), (104, 0.0), (105, 0.026845508118317995), (106, 0.0), (107, 0.0), (108, 0.0), (109, 0.0), (110, 0.03265001410048216), (111, 0.026801995266315576), (112, 0.0), (113, 0.0), (114, 0.022298651670320285), (115, 0.029162464772360515), (116, 0.0), (117, 0.10481722276171491), (118, 0.0), (119, 0.0), (120, 0.0), (121, 0.02951964964512683), (122, 0.017947189608485025), (123, 0.02495623845251094), (124, 0.0), (125, 0.0), (126, 0.028866428888631977), (127, 0.023676397241701706), (128, 0.029283379178492563), (129, 0.0), (130, 0.07156021226992373), (131, 0.024162397470185008), (132, 0.0), (133, 0.02356245526443459), (134, 0.027204505093028745), (135, 0.020126233199593658), (136, 0.0), (137, 0.0), (138, 0.0), (139, 0.0), (140, 0.1260721278113025), (141, 0.07107361754724166), (142, 0.023005091742812886), (143, 0.0), (144, 0.02495623845251094), (145, 0.027219519895822962), (146, 0.0), (147, 0.022015475958473026), (148, 0.0), (149, 0.0), (150, 0.03237662476902399), (151, 0.0), (152, 0.022015475958473026), (153, 0.0), (154, 0.12526918925302288), (155, 0.0), (156, 0.332871730090371), (157, 0.0), (158, 0.0), (159, 0.02092495409781087), (160, 0.09651717204007926), (161, 0.0), (162, 0.023014169250249416), (163, 0.0), (164, 0.0263486756530433), (165, 0.028259866996008014), (166, 0.0), (167, 0.028259866996008014), (168, 0.0), (169, 0.0), (170, 0.07300805953828268), (171, 0.024274646955573506), (172, 0.0), (173, 0.0180436309212843), (174, 0.03345561391428628), (175, 0.018652483741683358), (176, 0.0), (177, 0.0), (178, 0.0), (179, 0.024162397470185008), (180, 0.15381101602749994), (181, 0.0), (182, 0.0), (183, 0.0), (184, 0.0), (185, 0.0), (186, 0.0), (187, 0.0), (188, 0.0), (189, 0.022899411464289428), (190, 0.020764035955298583), (191, 0.022298651670320288), (192, 0.023111101674020383), (193, 0.0), (194, 0.024561160285759782), (195, 0.02560833790335477), (196, 0.0), (197, 0.023782446946590107), (198, 0.025371016326805995), (199, 0.0), (200, 0.026204578658665552), (201, 0.032298209848411356), (202, 0.0), (203, 0.02056464809925738), (204, 0.0), (205, 0.0), (206, 0.0), (207, 0.022950249310683506), (208, 0.0), (209, 0.0), (210, 0.023900420261154832), (211, 0.020489853497165266), (212, 0.0), (213, 0.0), (214, 0.0), (215, 0.030575891839798152), (216, 0.02220601322742773), (217, 0.0), (218, 0.0), (219, 0.14175727094237342), (220, 0.14175727094237342), (221, 0.04271919223430472), (222, 0.0), (223, 0.030963335903001425), (224, 0.026063600082930776), (225, 0.02791725041122982), (226, 0.02495623845251094), (227, 0.12007307034709287), (228, 0.0), (229, 0.0929957344797453), (230, 0.0), (231, 0.019526293122852145), (232, 0.0), (233, 0.027180808678231586), (234, 0.17107348397144986), (235, 0.028325910177817985), (236, 0.023909832557135156), (237, 0.0), (238, 0.0), (239, 0.0), (240, 0.0), (241, 0.021111987875571343), (242, 0.0), (243, 0.029856065895146132), (244, 0.0), (245, 0.03220112482500082), (246, 0.0), (247, 0.0), (248, 0.020341898186033654), (249, 0.026063600082930776), (250, 0.0), (251, 0.0), (252, 0.02737248545951201), (253, 0.0), (254, 0.12070691649685075), (255, 0.013549009329237688), (256, 0.0), (257, 0.02962288393785367), (258, 0.0), (259, 0.0), (260, 0.0), (261, 0.02560833790335477), (262, 0.0), (263, 0.0), (264, 0.021371527768613757), (265, 0.029699091524627498), (266, 0.01922979656284825), (267, 0.0), (268, 0.027281380160700388), (269, 0.1260721278113025), (270, 0.08495706845102381), (271, 0.03220112482500082), (272, 0.03308172048354543), (273, 0.09189234209094851), (274, 0.028866428888631977), (275, 0.0), (276, 0.0), (277, 0.0), (278, 0.0), (279, 0.28524164146313447), (280, 0.029889264379083288), (281, 0.0), (282, 0.07926859146403875), (283, 0.024644446458544862), (284, 0.02307345802490626), (285, 0.02473430315278405), (286, 0.020489853497165266), (287, 0.0), (288, 0.0), (289, 0.0), (290, 0.0), (291, 0.12215372588762473), (292, 0.0), (293, 0.13279243949525998), (294, 0.0), (295, 0.0), (296, 0.024816460596674583), (297, 0.03123611723215054), (298, 0.15063228989801256), (299, 0.0), (300, 0.26948385893608384), (301, 0.02962288393785367), (302, 0.02544020853867807), (303, 0.026766556163203576), (304, 0.024019360802543323), (305, 0.0), (306, 0.0), (307, 0.01864043891462804), (308, 0.10088295062550441), (309, 0.09803517803567458), (310, 0.2161141899172632), (311, 0.07755271569148307), (312, 0.0), (313, 0.022745477502115884), (314, 0.0), (315, 0.0), (316, 0.0), (317, 0.0), (318, 0.0), (319, 0.026753352983380694), (320, 0.02514679043451097), (321, 0.0), (322, 0.13669628203148088), (323, 0.023163365717976704), (324, 0.0), (325, 0.025971782000921786), (326, 0.10757468571428035), (327, 0.028863040121365417), (328, 0.332871730090371)]\n"
          ]
        }
      ]
    },
    {
      "cell_type": "code",
      "source": [
        "len(similarity_score)"
      ],
      "metadata": {
        "colab": {
          "base_uri": "https://localhost:8080/"
        },
        "id": "3Lf6hXsagkmL",
        "outputId": "9d207f49-9b70-43e9-ee66-012ac1c9fe61"
      },
      "execution_count": 161,
      "outputs": [
        {
          "output_type": "execute_result",
          "data": {
            "text/plain": [
              "329"
            ]
          },
          "metadata": {},
          "execution_count": 161
        }
      ]
    },
    {
      "cell_type": "code",
      "source": [
        "#sorting the movies based on their similarity score\n",
        "sorted_similar_movies = sorted(similarity_score, key = lambda x:x[1], reverse=True)\n",
        "print(sorted_similar_movies)"
      ],
      "metadata": {
        "colab": {
          "base_uri": "https://localhost:8080/"
        },
        "id": "l2GfJY-sg43O",
        "outputId": "ae112aaa-2ef9-43db-84ed-ce00b9705bfa"
      },
      "execution_count": 162,
      "outputs": [
        {
          "output_type": "stream",
          "name": "stdout",
          "text": [
            "[(3, 1.0000000000000002), (21, 0.4166886229236545), (62, 0.332871730090371), (156, 0.332871730090371), (328, 0.332871730090371), (26, 0.32067875608155183), (279, 0.28524164146313447), (300, 0.26948385893608384), (85, 0.2664951128498564), (82, 0.24770830568745822), (95, 0.2161141899172632), (310, 0.2161141899172632), (234, 0.17107348397144986), (22, 0.154670172764514), (180, 0.15381101602749994), (298, 0.15063228989801256), (219, 0.14175727094237342), (220, 0.14175727094237342), (96, 0.13856972985464666), (322, 0.13669628203148088), (293, 0.13279243949525998), (97, 0.1260721278113025), (140, 0.1260721278113025), (269, 0.1260721278113025), (154, 0.12526918925302288), (291, 0.12215372588762473), (18, 0.12203224897792213), (254, 0.12070691649685075), (227, 0.12007307034709287), (0, 0.10796230188730056), (326, 0.10757468571428035), (61, 0.10561193714032584), (117, 0.10481722276171491), (308, 0.10088295062550441), (309, 0.09803517803567458), (160, 0.09651717204007926), (229, 0.0929957344797453), (273, 0.09189234209094851), (55, 0.0909447375690123), (28, 0.0909198310908518), (60, 0.08574742440440615), (270, 0.08495706845102381), (282, 0.07926859146403875), (311, 0.07755271569148307), (170, 0.07300805953828268), (130, 0.07156021226992373), (141, 0.07107361754724166), (83, 0.04564298042049602), (221, 0.04271919223430472), (174, 0.03345561391428628), (272, 0.03308172048354543), (35, 0.03265001410048216), (110, 0.03265001410048216), (150, 0.03237662476902399), (12, 0.032338864768589375), (201, 0.032298209848411356), (10, 0.03220112482500082), (245, 0.03220112482500082), (271, 0.03220112482500082), (7, 0.03200358493531675), (297, 0.03123611723215054), (47, 0.030963335903001425), (223, 0.030963335903001425), (45, 0.0308495591268702), (215, 0.030575891839798152), (280, 0.029889264379083288), (243, 0.029856065895146132), (265, 0.029699091524627498), (257, 0.02962288393785367), (301, 0.02962288393785367), (121, 0.02951964964512683), (100, 0.029283379178492563), (128, 0.029283379178492563), (115, 0.029162464772360515), (126, 0.028866428888631977), (274, 0.028866428888631977), (327, 0.028863040121365417), (51, 0.028666298617201234), (235, 0.028325910177817985), (165, 0.028259866996008014), (167, 0.028259866996008014), (49, 0.02820824522037557), (225, 0.02791725041122982), (63, 0.02737248545951201), (92, 0.02737248545951201), (252, 0.02737248545951201), (25, 0.027325272554123082), (268, 0.027281380160700388), (1, 0.027219519895822962), (145, 0.027219519895822962), (134, 0.027204505093028745), (233, 0.027180808678231586), (105, 0.026845508118317995), (111, 0.026801995266315576), (303, 0.026766556163203576), (319, 0.026753352983380694), (164, 0.0263486756530433), (103, 0.026330576141342456), (200, 0.026204578658665552), (224, 0.026063600082930776), (249, 0.026063600082930776), (24, 0.026057082499757717), (52, 0.025971782000921786), (325, 0.025971782000921786), (15, 0.025659830453423564), (93, 0.025659830453423564), (195, 0.02560833790335477), (261, 0.02560833790335477), (302, 0.02544020853867807), (198, 0.025371016326805995), (320, 0.02514679043451097), (123, 0.02495623845251094), (144, 0.02495623845251094), (226, 0.02495623845251094), (296, 0.024816460596674583), (285, 0.02473430315278405), (66, 0.024703547825244473), (8, 0.024688231239241278), (283, 0.024644446458544862), (79, 0.024561160285759782), (194, 0.024561160285759782), (171, 0.024274646955573506), (6, 0.02422044344185715), (131, 0.024162397470185008), (179, 0.024162397470185008), (304, 0.024019360802543323), (102, 0.023921279499040663), (236, 0.023909832557135156), (210, 0.023900420261154832), (197, 0.023782446946590107), (127, 0.023676397241701706), (71, 0.023634117829424678), (133, 0.02356245526443459), (323, 0.023163365717976704), (192, 0.023111101674020383), (284, 0.02307345802490626), (162, 0.023014169250249416), (142, 0.023005091742812886), (207, 0.022950249310683506), (189, 0.022899411464289428), (313, 0.022745477502115884), (84, 0.022593043338238302), (37, 0.022593043338238295), (191, 0.022298651670320288), (114, 0.022298651670320285), (27, 0.022258393071235446), (216, 0.02220601322742773), (101, 0.022015475958473026), (147, 0.022015475958473026), (152, 0.022015475958473026), (264, 0.021371527768613757), (67, 0.02115584296633005), (241, 0.021111987875571343), (159, 0.02092495409781087), (190, 0.020764035955298583), (203, 0.02056464809925738), (211, 0.020489853497165266), (286, 0.020489853497165266), (86, 0.02046756997752144), (248, 0.020341898186033654), (135, 0.020126233199593658), (231, 0.019526293122852145), (266, 0.01922979656284825), (175, 0.018652483741683358), (307, 0.01864043891462804), (173, 0.0180436309212843), (122, 0.017947189608485025), (255, 0.013549009329237688), (2, 0.0), (4, 0.0), (5, 0.0), (9, 0.0), (11, 0.0), (13, 0.0), (14, 0.0), (16, 0.0), (17, 0.0), (19, 0.0), (20, 0.0), (23, 0.0), (29, 0.0), (30, 0.0), (31, 0.0), (32, 0.0), (33, 0.0), (34, 0.0), (36, 0.0), (38, 0.0), (39, 0.0), (40, 0.0), (41, 0.0), (42, 0.0), (43, 0.0), (44, 0.0), (46, 0.0), (48, 0.0), (50, 0.0), (53, 0.0), (54, 0.0), (56, 0.0), (57, 0.0), (58, 0.0), (59, 0.0), (64, 0.0), (65, 0.0), (68, 0.0), (69, 0.0), (70, 0.0), (72, 0.0), (73, 0.0), (74, 0.0), (75, 0.0), (76, 0.0), (77, 0.0), (78, 0.0), (80, 0.0), (81, 0.0), (87, 0.0), (88, 0.0), (89, 0.0), (90, 0.0), (91, 0.0), (94, 0.0), (98, 0.0), (99, 0.0), (104, 0.0), (106, 0.0), (107, 0.0), (108, 0.0), (109, 0.0), (112, 0.0), (113, 0.0), (116, 0.0), (118, 0.0), (119, 0.0), (120, 0.0), (124, 0.0), (125, 0.0), (129, 0.0), (132, 0.0), (136, 0.0), (137, 0.0), (138, 0.0), (139, 0.0), (143, 0.0), (146, 0.0), (148, 0.0), (149, 0.0), (151, 0.0), (153, 0.0), (155, 0.0), (157, 0.0), (158, 0.0), (161, 0.0), (163, 0.0), (166, 0.0), (168, 0.0), (169, 0.0), (172, 0.0), (176, 0.0), (177, 0.0), (178, 0.0), (181, 0.0), (182, 0.0), (183, 0.0), (184, 0.0), (185, 0.0), (186, 0.0), (187, 0.0), (188, 0.0), (193, 0.0), (196, 0.0), (199, 0.0), (202, 0.0), (204, 0.0), (205, 0.0), (206, 0.0), (208, 0.0), (209, 0.0), (212, 0.0), (213, 0.0), (214, 0.0), (217, 0.0), (218, 0.0), (222, 0.0), (228, 0.0), (230, 0.0), (232, 0.0), (237, 0.0), (238, 0.0), (239, 0.0), (240, 0.0), (242, 0.0), (244, 0.0), (246, 0.0), (247, 0.0), (250, 0.0), (251, 0.0), (253, 0.0), (256, 0.0), (258, 0.0), (259, 0.0), (260, 0.0), (262, 0.0), (263, 0.0), (267, 0.0), (275, 0.0), (276, 0.0), (277, 0.0), (278, 0.0), (281, 0.0), (287, 0.0), (288, 0.0), (289, 0.0), (290, 0.0), (292, 0.0), (294, 0.0), (295, 0.0), (299, 0.0), (305, 0.0), (306, 0.0), (312, 0.0), (314, 0.0), (315, 0.0), (316, 0.0), (317, 0.0), (318, 0.0), (321, 0.0), (324, 0.0)]\n"
          ]
        }
      ]
    },
    {
      "cell_type": "code",
      "source": [
        "# print the name of similar movies based on the index\n",
        "print('Movies suggested for you: \\n')\n",
        "i = 1\n",
        "for movie in sorted_similar_movies:\n",
        "  index = movie[0]\n",
        "  title_from_index = movies_data[movies_data.index==index]['MovieName'].values[0]\n",
        "  if(i<30):\n",
        "    print(i,'.',title_from_index)\n",
        "    i+=1"
      ],
      "metadata": {
        "colab": {
          "base_uri": "https://localhost:8080/"
        },
        "id": "_5Rnj5xeid7l",
        "outputId": "202110c8-38ba-4b19-82ff-0aa7a752be6d"
      },
      "execution_count": 164,
      "outputs": [
        {
          "output_type": "stream",
          "name": "stdout",
          "text": [
            "Movies suggested for you: \n",
            "\n",
            "1 . Mankatha\n",
            "2 . Biriyani\n",
            "3 . Veeram\n",
            "4 . Vivegam\n",
            "5 . Viswasam\n",
            "6 . Arrambam\n",
            "7 . Nerkonda Paarvai\n",
            "8 . Ayogya\n",
            "9 . Chennai 600028 Second Innings\n",
            "10 . Yennai Arindhaal\n",
            "11 . Uriyadi\n",
            "12 . Uriyadi 2\n",
            "13 . U Turn\n",
            "14 . Ivan Veramaathiri\n",
            "15 . Sathriyan\n",
            "16 . Devi 2\n",
            "17 . Thuppakki Munai\n",
            "18 . Thuppakki Munai\n",
            "19 . 24\n",
            "20 . LKG\n",
            "21 . Sindhubaadh\n",
            "22 . Theri\n",
            "23 . Mersal\n",
            "24 . Bigil\n",
            "25 . Maayavan\n",
            "26 . Dharma Prabhu\n",
            "27 . Kumki\n",
            "28 . Mercury\n",
            "29 . Raatchasan\n"
          ]
        }
      ]
    },
    {
      "cell_type": "markdown",
      "source": [
        "Movie Recommendation System"
      ],
      "metadata": {
        "id": "P0Cmvw4DnvDy"
      }
    },
    {
      "cell_type": "code",
      "source": [
        "movie_name = input('Enter your favourite movie name : ')\n",
        "\n",
        "list_of_all_titles = movies_data['MovieName'].tolist()\n",
        "\n",
        "find_close_match = difflib.get_close_matches(movie_name, list_of_all_titles)\n",
        "\n",
        "close_match = find_close_match[0]\n",
        "\n",
        "index_of_the_movie = movies_data[movies_data['MovieName'] == close_match].values[0]\n",
        "\n",
        "similarity_score = list(enumerate(similarity[index_of_the_movie]))\n",
        "\n",
        "len(similarity_score)\n",
        "\n",
        "sorted_similar_movies = sorted(similarity_score, key = lambda x:x[1], reverse=True)\n",
        "\n",
        "print('Movies suggested for you: \\n')\n",
        "i = 1\n",
        "for movie in sorted_similar_movies:\n",
        "  index = movie[0]\n",
        "  title_from_index = movies_data[movies_data.index==index]['MovieName'].values[0]\n",
        "  if(i<30):\n",
        "    print(i,'.',title_from_index)\n",
        "    i+=1"
      ],
      "metadata": {
        "colab": {
          "base_uri": "https://localhost:8080/",
          "height": 233
        },
        "id": "jY6Bn5VWCud4",
        "outputId": "51220fb3-506d-44e9-b13d-8c0122a854d8"
      },
      "execution_count": 166,
      "outputs": [
        {
          "name": "stdout",
          "output_type": "stream",
          "text": [
            "Enter your favourite movie name : u turn\n"
          ]
        },
        {
          "output_type": "error",
          "ename": "IndexError",
          "evalue": "arrays used as indices must be of integer (or boolean) type",
          "traceback": [
            "\u001b[0;31m---------------------------------------------------------------------------\u001b[0m",
            "\u001b[0;31mIndexError\u001b[0m                                Traceback (most recent call last)",
            "\u001b[0;32m<ipython-input-166-7f90174b74b3>\u001b[0m in \u001b[0;36m<cell line: 11>\u001b[0;34m()\u001b[0m\n\u001b[1;32m      9\u001b[0m \u001b[0mindex_of_the_movie\u001b[0m \u001b[0;34m=\u001b[0m \u001b[0mmovies_data\u001b[0m\u001b[0;34m[\u001b[0m\u001b[0mmovies_data\u001b[0m\u001b[0;34m[\u001b[0m\u001b[0;34m'MovieName'\u001b[0m\u001b[0;34m]\u001b[0m \u001b[0;34m==\u001b[0m \u001b[0mclose_match\u001b[0m\u001b[0;34m]\u001b[0m\u001b[0;34m.\u001b[0m\u001b[0mvalues\u001b[0m\u001b[0;34m[\u001b[0m\u001b[0;36m0\u001b[0m\u001b[0;34m]\u001b[0m\u001b[0;34m\u001b[0m\u001b[0;34m\u001b[0m\u001b[0m\n\u001b[1;32m     10\u001b[0m \u001b[0;34m\u001b[0m\u001b[0m\n\u001b[0;32m---> 11\u001b[0;31m \u001b[0msimilarity_score\u001b[0m \u001b[0;34m=\u001b[0m \u001b[0mlist\u001b[0m\u001b[0;34m(\u001b[0m\u001b[0menumerate\u001b[0m\u001b[0;34m(\u001b[0m\u001b[0msimilarity\u001b[0m\u001b[0;34m[\u001b[0m\u001b[0mindex_of_the_movie\u001b[0m\u001b[0;34m]\u001b[0m\u001b[0;34m)\u001b[0m\u001b[0;34m)\u001b[0m\u001b[0;34m\u001b[0m\u001b[0;34m\u001b[0m\u001b[0m\n\u001b[0m\u001b[1;32m     12\u001b[0m \u001b[0;34m\u001b[0m\u001b[0m\n\u001b[1;32m     13\u001b[0m \u001b[0mlen\u001b[0m\u001b[0;34m(\u001b[0m\u001b[0msimilarity_score\u001b[0m\u001b[0;34m)\u001b[0m\u001b[0;34m\u001b[0m\u001b[0;34m\u001b[0m\u001b[0m\n",
            "\u001b[0;31mIndexError\u001b[0m: arrays used as indices must be of integer (or boolean) type"
          ]
        }
      ]
    },
    {
      "source": [
        "movie_name = input('Enter your favourite movie name : ')\n",
        "\n",
        "list_of_all_titles = movies_data['MovieName'].tolist()\n",
        "\n",
        "find_close_match = difflib.get_close_matches(movie_name, list_of_all_titles)\n",
        "\n",
        "close_match = find_close_match[0]\n",
        "\n",
        "# Get the index of the movie as a single integer value\n",
        "index_of_the_movie = movies_data[movies_data['MovieName'] == close_match].index[0]\n",
        "\n",
        "similarity_score = list(enumerate(similarity[index_of_the_movie]))\n",
        "\n",
        "len(similarity_score)\n",
        "\n",
        "sorted_similar_movies = sorted(similarity_score, key = lambda x:x[1], reverse=True)\n",
        "\n",
        "print('Movies suggested for you: \\n')\n",
        "i = 1\n",
        "for movie in sorted_similar_movies:\n",
        "  index = movie[0]\n",
        "  title_from_index = movies_data[movies_data.index==index]['MovieName'].values[0]\n",
        "  if(i<30):\n",
        "    print(i,'.',title_from_index)\n",
        "    i+=1"
      ],
      "cell_type": "code",
      "metadata": {
        "colab": {
          "base_uri": "https://localhost:8080/"
        },
        "id": "QZlpNO9hDRX_",
        "outputId": "c0fb40b7-b698-44be-9cb8-84707472b821"
      },
      "execution_count": 167,
      "outputs": [
        {
          "output_type": "stream",
          "name": "stdout",
          "text": [
            "Enter your favourite movie name : u turn\n",
            "Movies suggested for you: \n",
            "\n",
            "1 . U Turn\n",
            "2 . Mankatha\n",
            "3 . Raja Ranguski\n",
            "4 . Uriyadi\n",
            "5 . Uriyadi 2\n",
            "6 . Devi 2\n",
            "7 . Biriyani\n",
            "8 . LKG\n",
            "9 . Ivan Veramaathiri\n",
            "10 . Sathriyan\n",
            "11 . Dharma Prabhu\n",
            "12 . Kumki\n",
            "13 . Mercury\n",
            "14 . Thuppakki Munai\n",
            "15 . Thuppakki Munai\n",
            "16 . Charlie Chaplin 2\n",
            "17 . 24\n",
            "18 . Aruvi\n",
            "19 . Sindhubaadh\n",
            "20 . Watchman\n",
            "21 . Veeram\n",
            "22 . Vivegam\n",
            "23 . Viswasam\n",
            "24 . Chennai 600028 Second Innings\n",
            "25 . Theri\n",
            "26 . Mersal\n",
            "27 . Bigil\n",
            "28 . Podhuvaga En Manasu Thangam\n",
            "29 . Maayavan\n"
          ]
        }
      ]
    }
  ]
}